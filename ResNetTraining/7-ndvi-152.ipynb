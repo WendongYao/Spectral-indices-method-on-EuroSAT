{
 "metadata": {
  "kernelspec": {
   "language": "python",
   "display_name": "Python 3",
   "name": "python3"
  },
  "language_info": {
   "name": "python",
   "version": "3.10.12",
   "mimetype": "text/x-python",
   "codemirror_mode": {
    "name": "ipython",
    "version": 3
   },
   "pygments_lexer": "ipython3",
   "nbconvert_exporter": "python",
   "file_extension": ".py"
  }
 },
 "nbformat_minor": 4,
 "nbformat": 4,
 "cells": [
  {
   "cell_type": "code",
   "source": [
    "# The program is modified from the original program provided by the user @tejasri19, please see https://github.com/tejasri19/EuroSAT_data_analysis/blob/main/All_bands/EuroSAT_Resnet.ipynb for original code\n",
    "\n",
    "import os\n",
    "import numpy as np\n",
    "import rasterio\n",
    "import torch\n",
    "from torch.utils.data import Dataset, DataLoader\n",
    "import numpy as np\n",
    "from sklearn.model_selection import train_test_split\n",
    "from sklearn.metrics import accuracy_score\n",
    "!pip install torchsummary\n",
    "from torchsummary import summary\n",
    "from transformers import ViTModel, ViTConfig, ViTForImageClassification\n",
    "\n",
    "# set the path to the directory containing the npy files\n",
    "data_dir = '.../yourNumpyDataset'\n",
    "\n",
    "# set the path to save the trained model\n",
    "model_path = '.../outputPath'\n",
    "\n",
    "if not os.path.exists(model_path):\n",
    "    os.makedirs(model_path)\n",
    "# load the X and y data for each class\n",
    "X = []\n",
    "y = []\n",
    "for i in range(10):\n",
    "    X_i = np.load(f'{data_dir}/X{i}.npy')\n",
    "    y_i = np.load(f'{data_dir}/y{i}.npy')\n",
    "    X.append(X_i)\n",
    "    y.append(y_i)\n",
    "\n",
    "# concatenate the X and y data for all classes\n",
    "X = np.concatenate(X, axis=0)\n",
    "y = np.concatenate(y, axis=0)"
   ],
   "metadata": {
    "_uuid": "8f2839f25d086af736a60e9eeb907d3b93b6e0e5",
    "_cell_guid": "b1076dfc-b9ad-4769-8c92-a6c4dae69d19",
    "execution": {
     "iopub.status.busy": "2023-10-25T20:21:38.868065Z",
     "iopub.execute_input": "2023-10-25T20:21:38.868349Z",
     "iopub.status.idle": "2023-10-25T20:22:12.728924Z",
     "shell.execute_reply.started": "2023-10-25T20:21:38.868322Z",
     "shell.execute_reply": "2023-10-25T20:22:12.727866Z"
    },
    "trusted": true
   },
   "execution_count": 1,
   "outputs": [
    {
     "name": "stderr",
     "text": "/opt/conda/lib/python3.10/site-packages/scipy/__init__.py:146: UserWarning: A NumPy version >=1.16.5 and <1.23.0 is required for this version of SciPy (detected version 1.23.5\n  warnings.warn(f\"A NumPy version >={np_minversion} and <{np_maxversion}\"\n",
     "output_type": "stream"
    },
    {
     "name": "stdout",
     "text": "Collecting torchsummary\n  Downloading torchsummary-1.5.1-py3-none-any.whl (2.8 kB)\nInstalling collected packages: torchsummary\nSuccessfully installed torchsummary-1.5.1\n",
     "output_type": "stream"
    }
   ]
  },
  {
   "cell_type": "code",
   "source": [
    "!pip install einops\n",
    "import einops\n",
    "print(X.shape)\n",
    "\n",
    "\n",
    "X = einops.rearrange(X, 'b h w c -> b c h w')\n",
    "              \n",
    "print(X.shape)\n",
    "\n",
    "print(X[0].shape)"
   ],
   "metadata": {
    "execution": {
     "iopub.status.busy": "2023-10-25T20:22:12.730676Z",
     "iopub.execute_input": "2023-10-25T20:22:12.730982Z",
     "iopub.status.idle": "2023-10-25T20:22:24.609277Z",
     "shell.execute_reply.started": "2023-10-25T20:22:12.730953Z",
     "shell.execute_reply": "2023-10-25T20:22:24.608269Z"
    },
    "trusted": true
   },
   "execution_count": 2,
   "outputs": [
    {
     "name": "stdout",
     "text": "Collecting einops\n  Downloading einops-0.7.0-py3-none-any.whl (44 kB)\n\u001B[2K     \u001B[90m━━━━━━━━━━━━━━━━━━━━━━━━━━━━━━━━━━━━━━━━\u001B[0m \u001B[32m44.6/44.6 kB\u001B[0m \u001B[31m2.6 MB/s\u001B[0m eta \u001B[36m0:00:00\u001B[0m\n\u001B[?25hInstalling collected packages: einops\nSuccessfully installed einops-0.7.0\n(27000, 64, 64, 1)\n(27000, 1, 64, 64)\n(1, 64, 64)\n",
     "output_type": "stream"
    }
   ]
  },
  {
   "cell_type": "code",
   "source": [
    "from sklearn.model_selection import StratifiedShuffleSplit\n",
    "\n",
    "\n",
    "# split the data into training and testing sets\n",
    "split = StratifiedShuffleSplit(n_splits=1, test_size=0.2, random_state=42)\n",
    "#X_train, X_test, y_train, y_test = train_test_split(X, y, test_size=0.2, random_state=42)\n",
    "\n",
    "\n",
    "# split the data\n",
    "for train_idx, test_idx in split.split(X, y):\n",
    "    X_train, X_test = X[train_idx], X[test_idx]\n",
    "    y_train, y_test = y[train_idx], y[test_idx]"
   ],
   "metadata": {
    "execution": {
     "iopub.status.busy": "2023-10-25T20:22:24.610686Z",
     "iopub.execute_input": "2023-10-25T20:22:24.611047Z",
     "iopub.status.idle": "2023-10-25T20:22:24.882834Z",
     "shell.execute_reply.started": "2023-10-25T20:22:24.611013Z",
     "shell.execute_reply": "2023-10-25T20:22:24.881764Z"
    },
    "trusted": true
   },
   "execution_count": 3,
   "outputs": []
  },
  {
   "cell_type": "code",
   "source": [
    "# Free up the memory for better utilization\n",
    "del X\n",
    "del y"
   ],
   "metadata": {
    "execution": {
     "iopub.status.busy": "2023-10-25T20:22:24.885241Z",
     "iopub.execute_input": "2023-10-25T20:22:24.885556Z",
     "iopub.status.idle": "2023-10-25T20:22:24.891985Z",
     "shell.execute_reply.started": "2023-10-25T20:22:24.885530Z",
     "shell.execute_reply": "2023-10-25T20:22:24.890988Z"
    },
    "trusted": true
   },
   "execution_count": 4,
   "outputs": []
  },
  {
   "cell_type": "code",
   "source": [
    "\n",
    "# define a custom dataset class for the EuroSAT multispectral data\n",
    "class EuroSATDataset(Dataset):\n",
    "    def __init__(self, X, y):\n",
    "        self.X = X\n",
    "        self.y = y\n",
    "\n",
    "    def __len__(self):\n",
    "        return len(self.X)\n",
    "\n",
    "    def __getitem__(self, idx):\n",
    "        return self.X[idx], self.y[idx]\n",
    "\n",
    "# create data loaders for the training and testing sets\n",
    "train_dataset = EuroSATDataset(X_train, y_train)\n",
    "train_loader = DataLoader(train_dataset, batch_size=32, shuffle=True)\n",
    "test_dataset = EuroSATDataset(X_test, y_test)\n",
    "test_loader = DataLoader(test_dataset, batch_size=32, shuffle=False)\n",
    "\n",
    "# set the device to use for training and testing\n",
    "device = torch.device('cuda' if torch.cuda.is_available() else 'cpu')\n",
    "print(device)"
   ],
   "metadata": {
    "execution": {
     "iopub.status.busy": "2023-10-25T20:22:24.893170Z",
     "iopub.execute_input": "2023-10-25T20:22:24.893465Z",
     "iopub.status.idle": "2023-10-25T20:22:24.929300Z",
     "shell.execute_reply.started": "2023-10-25T20:22:24.893442Z",
     "shell.execute_reply": "2023-10-25T20:22:24.928339Z"
    },
    "trusted": true
   },
   "execution_count": 5,
   "outputs": [
    {
     "name": "stdout",
     "text": "cuda\n",
     "output_type": "stream"
    }
   ]
  },
  {
   "cell_type": "code",
   "source": [
    "import torchvision.models as models\n",
    "import torch.nn as nn\n",
    "import torch.optim as optim"
   ],
   "metadata": {
    "execution": {
     "iopub.status.busy": "2023-10-25T20:22:24.930716Z",
     "iopub.execute_input": "2023-10-25T20:22:24.931061Z",
     "iopub.status.idle": "2023-10-25T20:22:25.190604Z",
     "shell.execute_reply.started": "2023-10-25T20:22:24.931028Z",
     "shell.execute_reply": "2023-10-25T20:22:25.189803Z"
    },
    "trusted": true
   },
   "execution_count": 6,
   "outputs": []
  },
  {
   "cell_type": "code",
   "source": [
    "# Define the ResNet-152 model\n",
    "model = models.resnet152(pretrained=True)\n",
    "num_classes = 10\n",
    "model.fc = nn.Linear(2048, num_classes)\n",
    "\n",
    "# Modify the first convolution layer to accept 1-channel input\n",
    "# for multi-spectral training, please change \"1\" to value of channels used\n",
    "model.conv1 = nn.Conv2d(1, 64, kernel_size=7, stride=2, padding=3, bias=False)\n",
    "\n",
    "# Define the loss function and optimizer\n",
    "criterion = nn.CrossEntropyLoss()\n",
    "optimizer = optim.Adam(model.parameters(), lr=0.001)\n",
    "\n",
    "# Move the model and loss function to the device\n",
    "model.to(device)\n",
    "criterion.to(device)"
   ],
   "metadata": {
    "execution": {
     "iopub.status.busy": "2023-10-25T20:22:25.191785Z",
     "iopub.execute_input": "2023-10-25T20:22:25.192077Z",
     "iopub.status.idle": "2023-10-25T20:22:34.233021Z",
     "shell.execute_reply.started": "2023-10-25T20:22:25.192052Z",
     "shell.execute_reply": "2023-10-25T20:22:34.231250Z"
    },
    "trusted": true
   },
   "execution_count": 7,
   "outputs": [
    {
     "name": "stderr",
     "text": "/opt/conda/lib/python3.10/site-packages/torchvision/models/_utils.py:208: UserWarning: The parameter 'pretrained' is deprecated since 0.13 and may be removed in the future, please use 'weights' instead.\n  warnings.warn(\n/opt/conda/lib/python3.10/site-packages/torchvision/models/_utils.py:223: UserWarning: Arguments other than a weight enum or `None` for 'weights' are deprecated since 0.13 and may be removed in the future. The current behavior is equivalent to passing `weights=ResNet152_Weights.IMAGENET1K_V1`. You can also use `weights=ResNet152_Weights.DEFAULT` to get the most up-to-date weights.\n  warnings.warn(msg)\nDownloading: \"https://download.pytorch.org/models/resnet152-394f9c45.pth\" to /root/.cache/torch/hub/checkpoints/resnet152-394f9c45.pth\n100%|██████████| 230M/230M [00:02<00:00, 96.5MB/s] \n",
     "output_type": "stream"
    },
    {
     "execution_count": 7,
     "output_type": "execute_result",
     "data": {
      "text/plain": "CrossEntropyLoss()"
     },
     "metadata": {}
    }
   ]
  },
  {
   "cell_type": "code",
   "source": [
    "import torchsummary\n",
    "\n",
    "# Print the model summary\n",
    "# for multi-spectral training, please change \"1\" to value of channels used\n",
    "torchsummary.summary(model.to(device), input_size=(1, 64, 64))"
   ],
   "metadata": {
    "execution": {
     "iopub.status.busy": "2023-10-25T20:22:34.234321Z",
     "iopub.execute_input": "2023-10-25T20:22:34.234675Z",
     "iopub.status.idle": "2023-10-25T20:22:38.947158Z",
     "shell.execute_reply.started": "2023-10-25T20:22:34.234647Z",
     "shell.execute_reply": "2023-10-25T20:22:38.946228Z"
    },
    "trusted": true
   },
   "execution_count": 8,
   "outputs": [
    {
     "name": "stdout",
     "text": "----------------------------------------------------------------\n        Layer (type)               Output Shape         Param #\n================================================================\n            Conv2d-1           [-1, 64, 32, 32]           3,136\n       BatchNorm2d-2           [-1, 64, 32, 32]             128\n              ReLU-3           [-1, 64, 32, 32]               0\n         MaxPool2d-4           [-1, 64, 16, 16]               0\n            Conv2d-5           [-1, 64, 16, 16]           4,096\n       BatchNorm2d-6           [-1, 64, 16, 16]             128\n              ReLU-7           [-1, 64, 16, 16]               0\n            Conv2d-8           [-1, 64, 16, 16]          36,864\n       BatchNorm2d-9           [-1, 64, 16, 16]             128\n             ReLU-10           [-1, 64, 16, 16]               0\n           Conv2d-11          [-1, 256, 16, 16]          16,384\n      BatchNorm2d-12          [-1, 256, 16, 16]             512\n           Conv2d-13          [-1, 256, 16, 16]          16,384\n      BatchNorm2d-14          [-1, 256, 16, 16]             512\n             ReLU-15          [-1, 256, 16, 16]               0\n       Bottleneck-16          [-1, 256, 16, 16]               0\n           Conv2d-17           [-1, 64, 16, 16]          16,384\n      BatchNorm2d-18           [-1, 64, 16, 16]             128\n             ReLU-19           [-1, 64, 16, 16]               0\n           Conv2d-20           [-1, 64, 16, 16]          36,864\n      BatchNorm2d-21           [-1, 64, 16, 16]             128\n             ReLU-22           [-1, 64, 16, 16]               0\n           Conv2d-23          [-1, 256, 16, 16]          16,384\n      BatchNorm2d-24          [-1, 256, 16, 16]             512\n             ReLU-25          [-1, 256, 16, 16]               0\n       Bottleneck-26          [-1, 256, 16, 16]               0\n           Conv2d-27           [-1, 64, 16, 16]          16,384\n      BatchNorm2d-28           [-1, 64, 16, 16]             128\n             ReLU-29           [-1, 64, 16, 16]               0\n           Conv2d-30           [-1, 64, 16, 16]          36,864\n      BatchNorm2d-31           [-1, 64, 16, 16]             128\n             ReLU-32           [-1, 64, 16, 16]               0\n           Conv2d-33          [-1, 256, 16, 16]          16,384\n      BatchNorm2d-34          [-1, 256, 16, 16]             512\n             ReLU-35          [-1, 256, 16, 16]               0\n       Bottleneck-36          [-1, 256, 16, 16]               0\n           Conv2d-37          [-1, 128, 16, 16]          32,768\n      BatchNorm2d-38          [-1, 128, 16, 16]             256\n             ReLU-39          [-1, 128, 16, 16]               0\n           Conv2d-40            [-1, 128, 8, 8]         147,456\n      BatchNorm2d-41            [-1, 128, 8, 8]             256\n             ReLU-42            [-1, 128, 8, 8]               0\n           Conv2d-43            [-1, 512, 8, 8]          65,536\n      BatchNorm2d-44            [-1, 512, 8, 8]           1,024\n           Conv2d-45            [-1, 512, 8, 8]         131,072\n      BatchNorm2d-46            [-1, 512, 8, 8]           1,024\n             ReLU-47            [-1, 512, 8, 8]               0\n       Bottleneck-48            [-1, 512, 8, 8]               0\n           Conv2d-49            [-1, 128, 8, 8]          65,536\n      BatchNorm2d-50            [-1, 128, 8, 8]             256\n             ReLU-51            [-1, 128, 8, 8]               0\n           Conv2d-52            [-1, 128, 8, 8]         147,456\n      BatchNorm2d-53            [-1, 128, 8, 8]             256\n             ReLU-54            [-1, 128, 8, 8]               0\n           Conv2d-55            [-1, 512, 8, 8]          65,536\n      BatchNorm2d-56            [-1, 512, 8, 8]           1,024\n             ReLU-57            [-1, 512, 8, 8]               0\n       Bottleneck-58            [-1, 512, 8, 8]               0\n           Conv2d-59            [-1, 128, 8, 8]          65,536\n      BatchNorm2d-60            [-1, 128, 8, 8]             256\n             ReLU-61            [-1, 128, 8, 8]               0\n           Conv2d-62            [-1, 128, 8, 8]         147,456\n      BatchNorm2d-63            [-1, 128, 8, 8]             256\n             ReLU-64            [-1, 128, 8, 8]               0\n           Conv2d-65            [-1, 512, 8, 8]          65,536\n      BatchNorm2d-66            [-1, 512, 8, 8]           1,024\n             ReLU-67            [-1, 512, 8, 8]               0\n       Bottleneck-68            [-1, 512, 8, 8]               0\n           Conv2d-69            [-1, 128, 8, 8]          65,536\n      BatchNorm2d-70            [-1, 128, 8, 8]             256\n             ReLU-71            [-1, 128, 8, 8]               0\n           Conv2d-72            [-1, 128, 8, 8]         147,456\n      BatchNorm2d-73            [-1, 128, 8, 8]             256\n             ReLU-74            [-1, 128, 8, 8]               0\n           Conv2d-75            [-1, 512, 8, 8]          65,536\n      BatchNorm2d-76            [-1, 512, 8, 8]           1,024\n             ReLU-77            [-1, 512, 8, 8]               0\n       Bottleneck-78            [-1, 512, 8, 8]               0\n           Conv2d-79            [-1, 128, 8, 8]          65,536\n      BatchNorm2d-80            [-1, 128, 8, 8]             256\n             ReLU-81            [-1, 128, 8, 8]               0\n           Conv2d-82            [-1, 128, 8, 8]         147,456\n      BatchNorm2d-83            [-1, 128, 8, 8]             256\n             ReLU-84            [-1, 128, 8, 8]               0\n           Conv2d-85            [-1, 512, 8, 8]          65,536\n      BatchNorm2d-86            [-1, 512, 8, 8]           1,024\n             ReLU-87            [-1, 512, 8, 8]               0\n       Bottleneck-88            [-1, 512, 8, 8]               0\n           Conv2d-89            [-1, 128, 8, 8]          65,536\n      BatchNorm2d-90            [-1, 128, 8, 8]             256\n             ReLU-91            [-1, 128, 8, 8]               0\n           Conv2d-92            [-1, 128, 8, 8]         147,456\n      BatchNorm2d-93            [-1, 128, 8, 8]             256\n             ReLU-94            [-1, 128, 8, 8]               0\n           Conv2d-95            [-1, 512, 8, 8]          65,536\n      BatchNorm2d-96            [-1, 512, 8, 8]           1,024\n             ReLU-97            [-1, 512, 8, 8]               0\n       Bottleneck-98            [-1, 512, 8, 8]               0\n           Conv2d-99            [-1, 128, 8, 8]          65,536\n     BatchNorm2d-100            [-1, 128, 8, 8]             256\n            ReLU-101            [-1, 128, 8, 8]               0\n          Conv2d-102            [-1, 128, 8, 8]         147,456\n     BatchNorm2d-103            [-1, 128, 8, 8]             256\n            ReLU-104            [-1, 128, 8, 8]               0\n          Conv2d-105            [-1, 512, 8, 8]          65,536\n     BatchNorm2d-106            [-1, 512, 8, 8]           1,024\n            ReLU-107            [-1, 512, 8, 8]               0\n      Bottleneck-108            [-1, 512, 8, 8]               0\n          Conv2d-109            [-1, 128, 8, 8]          65,536\n     BatchNorm2d-110            [-1, 128, 8, 8]             256\n            ReLU-111            [-1, 128, 8, 8]               0\n          Conv2d-112            [-1, 128, 8, 8]         147,456\n     BatchNorm2d-113            [-1, 128, 8, 8]             256\n            ReLU-114            [-1, 128, 8, 8]               0\n          Conv2d-115            [-1, 512, 8, 8]          65,536\n     BatchNorm2d-116            [-1, 512, 8, 8]           1,024\n            ReLU-117            [-1, 512, 8, 8]               0\n      Bottleneck-118            [-1, 512, 8, 8]               0\n          Conv2d-119            [-1, 256, 8, 8]         131,072\n     BatchNorm2d-120            [-1, 256, 8, 8]             512\n            ReLU-121            [-1, 256, 8, 8]               0\n          Conv2d-122            [-1, 256, 4, 4]         589,824\n     BatchNorm2d-123            [-1, 256, 4, 4]             512\n            ReLU-124            [-1, 256, 4, 4]               0\n          Conv2d-125           [-1, 1024, 4, 4]         262,144\n     BatchNorm2d-126           [-1, 1024, 4, 4]           2,048\n          Conv2d-127           [-1, 1024, 4, 4]         524,288\n     BatchNorm2d-128           [-1, 1024, 4, 4]           2,048\n            ReLU-129           [-1, 1024, 4, 4]               0\n      Bottleneck-130           [-1, 1024, 4, 4]               0\n          Conv2d-131            [-1, 256, 4, 4]         262,144\n     BatchNorm2d-132            [-1, 256, 4, 4]             512\n            ReLU-133            [-1, 256, 4, 4]               0\n          Conv2d-134            [-1, 256, 4, 4]         589,824\n     BatchNorm2d-135            [-1, 256, 4, 4]             512\n            ReLU-136            [-1, 256, 4, 4]               0\n          Conv2d-137           [-1, 1024, 4, 4]         262,144\n     BatchNorm2d-138           [-1, 1024, 4, 4]           2,048\n            ReLU-139           [-1, 1024, 4, 4]               0\n      Bottleneck-140           [-1, 1024, 4, 4]               0\n          Conv2d-141            [-1, 256, 4, 4]         262,144\n     BatchNorm2d-142            [-1, 256, 4, 4]             512\n            ReLU-143            [-1, 256, 4, 4]               0\n          Conv2d-144            [-1, 256, 4, 4]         589,824\n     BatchNorm2d-145            [-1, 256, 4, 4]             512\n            ReLU-146            [-1, 256, 4, 4]               0\n          Conv2d-147           [-1, 1024, 4, 4]         262,144\n     BatchNorm2d-148           [-1, 1024, 4, 4]           2,048\n            ReLU-149           [-1, 1024, 4, 4]               0\n      Bottleneck-150           [-1, 1024, 4, 4]               0\n          Conv2d-151            [-1, 256, 4, 4]         262,144\n     BatchNorm2d-152            [-1, 256, 4, 4]             512\n            ReLU-153            [-1, 256, 4, 4]               0\n          Conv2d-154            [-1, 256, 4, 4]         589,824\n     BatchNorm2d-155            [-1, 256, 4, 4]             512\n            ReLU-156            [-1, 256, 4, 4]               0\n          Conv2d-157           [-1, 1024, 4, 4]         262,144\n     BatchNorm2d-158           [-1, 1024, 4, 4]           2,048\n            ReLU-159           [-1, 1024, 4, 4]               0\n      Bottleneck-160           [-1, 1024, 4, 4]               0\n          Conv2d-161            [-1, 256, 4, 4]         262,144\n     BatchNorm2d-162            [-1, 256, 4, 4]             512\n            ReLU-163            [-1, 256, 4, 4]               0\n          Conv2d-164            [-1, 256, 4, 4]         589,824\n     BatchNorm2d-165            [-1, 256, 4, 4]             512\n            ReLU-166            [-1, 256, 4, 4]               0\n          Conv2d-167           [-1, 1024, 4, 4]         262,144\n     BatchNorm2d-168           [-1, 1024, 4, 4]           2,048\n            ReLU-169           [-1, 1024, 4, 4]               0\n      Bottleneck-170           [-1, 1024, 4, 4]               0\n          Conv2d-171            [-1, 256, 4, 4]         262,144\n     BatchNorm2d-172            [-1, 256, 4, 4]             512\n            ReLU-173            [-1, 256, 4, 4]               0\n          Conv2d-174            [-1, 256, 4, 4]         589,824\n     BatchNorm2d-175            [-1, 256, 4, 4]             512\n            ReLU-176            [-1, 256, 4, 4]               0\n          Conv2d-177           [-1, 1024, 4, 4]         262,144\n     BatchNorm2d-178           [-1, 1024, 4, 4]           2,048\n            ReLU-179           [-1, 1024, 4, 4]               0\n      Bottleneck-180           [-1, 1024, 4, 4]               0\n          Conv2d-181            [-1, 256, 4, 4]         262,144\n     BatchNorm2d-182            [-1, 256, 4, 4]             512\n            ReLU-183            [-1, 256, 4, 4]               0\n          Conv2d-184            [-1, 256, 4, 4]         589,824\n     BatchNorm2d-185            [-1, 256, 4, 4]             512\n            ReLU-186            [-1, 256, 4, 4]               0\n          Conv2d-187           [-1, 1024, 4, 4]         262,144\n     BatchNorm2d-188           [-1, 1024, 4, 4]           2,048\n            ReLU-189           [-1, 1024, 4, 4]               0\n      Bottleneck-190           [-1, 1024, 4, 4]               0\n          Conv2d-191            [-1, 256, 4, 4]         262,144\n     BatchNorm2d-192            [-1, 256, 4, 4]             512\n            ReLU-193            [-1, 256, 4, 4]               0\n          Conv2d-194            [-1, 256, 4, 4]         589,824\n     BatchNorm2d-195            [-1, 256, 4, 4]             512\n            ReLU-196            [-1, 256, 4, 4]               0\n          Conv2d-197           [-1, 1024, 4, 4]         262,144\n     BatchNorm2d-198           [-1, 1024, 4, 4]           2,048\n            ReLU-199           [-1, 1024, 4, 4]               0\n      Bottleneck-200           [-1, 1024, 4, 4]               0\n          Conv2d-201            [-1, 256, 4, 4]         262,144\n     BatchNorm2d-202            [-1, 256, 4, 4]             512\n            ReLU-203            [-1, 256, 4, 4]               0\n          Conv2d-204            [-1, 256, 4, 4]         589,824\n     BatchNorm2d-205            [-1, 256, 4, 4]             512\n            ReLU-206            [-1, 256, 4, 4]               0\n          Conv2d-207           [-1, 1024, 4, 4]         262,144\n     BatchNorm2d-208           [-1, 1024, 4, 4]           2,048\n            ReLU-209           [-1, 1024, 4, 4]               0\n      Bottleneck-210           [-1, 1024, 4, 4]               0\n          Conv2d-211            [-1, 256, 4, 4]         262,144\n     BatchNorm2d-212            [-1, 256, 4, 4]             512\n            ReLU-213            [-1, 256, 4, 4]               0\n          Conv2d-214            [-1, 256, 4, 4]         589,824\n     BatchNorm2d-215            [-1, 256, 4, 4]             512\n            ReLU-216            [-1, 256, 4, 4]               0\n          Conv2d-217           [-1, 1024, 4, 4]         262,144\n     BatchNorm2d-218           [-1, 1024, 4, 4]           2,048\n            ReLU-219           [-1, 1024, 4, 4]               0\n      Bottleneck-220           [-1, 1024, 4, 4]               0\n          Conv2d-221            [-1, 256, 4, 4]         262,144\n     BatchNorm2d-222            [-1, 256, 4, 4]             512\n            ReLU-223            [-1, 256, 4, 4]               0\n          Conv2d-224            [-1, 256, 4, 4]         589,824\n     BatchNorm2d-225            [-1, 256, 4, 4]             512\n            ReLU-226            [-1, 256, 4, 4]               0\n          Conv2d-227           [-1, 1024, 4, 4]         262,144\n     BatchNorm2d-228           [-1, 1024, 4, 4]           2,048\n            ReLU-229           [-1, 1024, 4, 4]               0\n      Bottleneck-230           [-1, 1024, 4, 4]               0\n          Conv2d-231            [-1, 256, 4, 4]         262,144\n     BatchNorm2d-232            [-1, 256, 4, 4]             512\n            ReLU-233            [-1, 256, 4, 4]               0\n          Conv2d-234            [-1, 256, 4, 4]         589,824\n     BatchNorm2d-235            [-1, 256, 4, 4]             512\n            ReLU-236            [-1, 256, 4, 4]               0\n          Conv2d-237           [-1, 1024, 4, 4]         262,144\n     BatchNorm2d-238           [-1, 1024, 4, 4]           2,048\n            ReLU-239           [-1, 1024, 4, 4]               0\n      Bottleneck-240           [-1, 1024, 4, 4]               0\n          Conv2d-241            [-1, 256, 4, 4]         262,144\n     BatchNorm2d-242            [-1, 256, 4, 4]             512\n            ReLU-243            [-1, 256, 4, 4]               0\n          Conv2d-244            [-1, 256, 4, 4]         589,824\n     BatchNorm2d-245            [-1, 256, 4, 4]             512\n            ReLU-246            [-1, 256, 4, 4]               0\n          Conv2d-247           [-1, 1024, 4, 4]         262,144\n     BatchNorm2d-248           [-1, 1024, 4, 4]           2,048\n            ReLU-249           [-1, 1024, 4, 4]               0\n      Bottleneck-250           [-1, 1024, 4, 4]               0\n          Conv2d-251            [-1, 256, 4, 4]         262,144\n     BatchNorm2d-252            [-1, 256, 4, 4]             512\n            ReLU-253            [-1, 256, 4, 4]               0\n          Conv2d-254            [-1, 256, 4, 4]         589,824\n     BatchNorm2d-255            [-1, 256, 4, 4]             512\n            ReLU-256            [-1, 256, 4, 4]               0\n          Conv2d-257           [-1, 1024, 4, 4]         262,144\n     BatchNorm2d-258           [-1, 1024, 4, 4]           2,048\n            ReLU-259           [-1, 1024, 4, 4]               0\n      Bottleneck-260           [-1, 1024, 4, 4]               0\n          Conv2d-261            [-1, 256, 4, 4]         262,144\n     BatchNorm2d-262            [-1, 256, 4, 4]             512\n            ReLU-263            [-1, 256, 4, 4]               0\n          Conv2d-264            [-1, 256, 4, 4]         589,824\n     BatchNorm2d-265            [-1, 256, 4, 4]             512\n            ReLU-266            [-1, 256, 4, 4]               0\n          Conv2d-267           [-1, 1024, 4, 4]         262,144\n     BatchNorm2d-268           [-1, 1024, 4, 4]           2,048\n            ReLU-269           [-1, 1024, 4, 4]               0\n      Bottleneck-270           [-1, 1024, 4, 4]               0\n          Conv2d-271            [-1, 256, 4, 4]         262,144\n     BatchNorm2d-272            [-1, 256, 4, 4]             512\n            ReLU-273            [-1, 256, 4, 4]               0\n          Conv2d-274            [-1, 256, 4, 4]         589,824\n     BatchNorm2d-275            [-1, 256, 4, 4]             512\n            ReLU-276            [-1, 256, 4, 4]               0\n          Conv2d-277           [-1, 1024, 4, 4]         262,144\n     BatchNorm2d-278           [-1, 1024, 4, 4]           2,048\n            ReLU-279           [-1, 1024, 4, 4]               0\n      Bottleneck-280           [-1, 1024, 4, 4]               0\n          Conv2d-281            [-1, 256, 4, 4]         262,144\n     BatchNorm2d-282            [-1, 256, 4, 4]             512\n            ReLU-283            [-1, 256, 4, 4]               0\n          Conv2d-284            [-1, 256, 4, 4]         589,824\n     BatchNorm2d-285            [-1, 256, 4, 4]             512\n            ReLU-286            [-1, 256, 4, 4]               0\n          Conv2d-287           [-1, 1024, 4, 4]         262,144\n     BatchNorm2d-288           [-1, 1024, 4, 4]           2,048\n            ReLU-289           [-1, 1024, 4, 4]               0\n      Bottleneck-290           [-1, 1024, 4, 4]               0\n          Conv2d-291            [-1, 256, 4, 4]         262,144\n     BatchNorm2d-292            [-1, 256, 4, 4]             512\n            ReLU-293            [-1, 256, 4, 4]               0\n          Conv2d-294            [-1, 256, 4, 4]         589,824\n     BatchNorm2d-295            [-1, 256, 4, 4]             512\n            ReLU-296            [-1, 256, 4, 4]               0\n          Conv2d-297           [-1, 1024, 4, 4]         262,144\n     BatchNorm2d-298           [-1, 1024, 4, 4]           2,048\n            ReLU-299           [-1, 1024, 4, 4]               0\n      Bottleneck-300           [-1, 1024, 4, 4]               0\n          Conv2d-301            [-1, 256, 4, 4]         262,144\n     BatchNorm2d-302            [-1, 256, 4, 4]             512\n            ReLU-303            [-1, 256, 4, 4]               0\n          Conv2d-304            [-1, 256, 4, 4]         589,824\n     BatchNorm2d-305            [-1, 256, 4, 4]             512\n            ReLU-306            [-1, 256, 4, 4]               0\n          Conv2d-307           [-1, 1024, 4, 4]         262,144\n     BatchNorm2d-308           [-1, 1024, 4, 4]           2,048\n            ReLU-309           [-1, 1024, 4, 4]               0\n      Bottleneck-310           [-1, 1024, 4, 4]               0\n          Conv2d-311            [-1, 256, 4, 4]         262,144\n     BatchNorm2d-312            [-1, 256, 4, 4]             512\n            ReLU-313            [-1, 256, 4, 4]               0\n          Conv2d-314            [-1, 256, 4, 4]         589,824\n     BatchNorm2d-315            [-1, 256, 4, 4]             512\n            ReLU-316            [-1, 256, 4, 4]               0\n          Conv2d-317           [-1, 1024, 4, 4]         262,144\n     BatchNorm2d-318           [-1, 1024, 4, 4]           2,048\n            ReLU-319           [-1, 1024, 4, 4]               0\n      Bottleneck-320           [-1, 1024, 4, 4]               0\n          Conv2d-321            [-1, 256, 4, 4]         262,144\n     BatchNorm2d-322            [-1, 256, 4, 4]             512\n            ReLU-323            [-1, 256, 4, 4]               0\n          Conv2d-324            [-1, 256, 4, 4]         589,824\n     BatchNorm2d-325            [-1, 256, 4, 4]             512\n            ReLU-326            [-1, 256, 4, 4]               0\n          Conv2d-327           [-1, 1024, 4, 4]         262,144\n     BatchNorm2d-328           [-1, 1024, 4, 4]           2,048\n            ReLU-329           [-1, 1024, 4, 4]               0\n      Bottleneck-330           [-1, 1024, 4, 4]               0\n          Conv2d-331            [-1, 256, 4, 4]         262,144\n     BatchNorm2d-332            [-1, 256, 4, 4]             512\n            ReLU-333            [-1, 256, 4, 4]               0\n          Conv2d-334            [-1, 256, 4, 4]         589,824\n     BatchNorm2d-335            [-1, 256, 4, 4]             512\n            ReLU-336            [-1, 256, 4, 4]               0\n          Conv2d-337           [-1, 1024, 4, 4]         262,144\n     BatchNorm2d-338           [-1, 1024, 4, 4]           2,048\n            ReLU-339           [-1, 1024, 4, 4]               0\n      Bottleneck-340           [-1, 1024, 4, 4]               0\n          Conv2d-341            [-1, 256, 4, 4]         262,144\n     BatchNorm2d-342            [-1, 256, 4, 4]             512\n            ReLU-343            [-1, 256, 4, 4]               0\n          Conv2d-344            [-1, 256, 4, 4]         589,824\n     BatchNorm2d-345            [-1, 256, 4, 4]             512\n            ReLU-346            [-1, 256, 4, 4]               0\n          Conv2d-347           [-1, 1024, 4, 4]         262,144\n     BatchNorm2d-348           [-1, 1024, 4, 4]           2,048\n            ReLU-349           [-1, 1024, 4, 4]               0\n      Bottleneck-350           [-1, 1024, 4, 4]               0\n          Conv2d-351            [-1, 256, 4, 4]         262,144\n     BatchNorm2d-352            [-1, 256, 4, 4]             512\n            ReLU-353            [-1, 256, 4, 4]               0\n          Conv2d-354            [-1, 256, 4, 4]         589,824\n     BatchNorm2d-355            [-1, 256, 4, 4]             512\n            ReLU-356            [-1, 256, 4, 4]               0\n          Conv2d-357           [-1, 1024, 4, 4]         262,144\n     BatchNorm2d-358           [-1, 1024, 4, 4]           2,048\n            ReLU-359           [-1, 1024, 4, 4]               0\n      Bottleneck-360           [-1, 1024, 4, 4]               0\n          Conv2d-361            [-1, 256, 4, 4]         262,144\n     BatchNorm2d-362            [-1, 256, 4, 4]             512\n            ReLU-363            [-1, 256, 4, 4]               0\n          Conv2d-364            [-1, 256, 4, 4]         589,824\n     BatchNorm2d-365            [-1, 256, 4, 4]             512\n            ReLU-366            [-1, 256, 4, 4]               0\n          Conv2d-367           [-1, 1024, 4, 4]         262,144\n     BatchNorm2d-368           [-1, 1024, 4, 4]           2,048\n            ReLU-369           [-1, 1024, 4, 4]               0\n      Bottleneck-370           [-1, 1024, 4, 4]               0\n          Conv2d-371            [-1, 256, 4, 4]         262,144\n     BatchNorm2d-372            [-1, 256, 4, 4]             512\n            ReLU-373            [-1, 256, 4, 4]               0\n          Conv2d-374            [-1, 256, 4, 4]         589,824\n     BatchNorm2d-375            [-1, 256, 4, 4]             512\n            ReLU-376            [-1, 256, 4, 4]               0\n          Conv2d-377           [-1, 1024, 4, 4]         262,144\n     BatchNorm2d-378           [-1, 1024, 4, 4]           2,048\n            ReLU-379           [-1, 1024, 4, 4]               0\n      Bottleneck-380           [-1, 1024, 4, 4]               0\n          Conv2d-381            [-1, 256, 4, 4]         262,144\n     BatchNorm2d-382            [-1, 256, 4, 4]             512\n            ReLU-383            [-1, 256, 4, 4]               0\n          Conv2d-384            [-1, 256, 4, 4]         589,824\n     BatchNorm2d-385            [-1, 256, 4, 4]             512\n            ReLU-386            [-1, 256, 4, 4]               0\n          Conv2d-387           [-1, 1024, 4, 4]         262,144\n     BatchNorm2d-388           [-1, 1024, 4, 4]           2,048\n            ReLU-389           [-1, 1024, 4, 4]               0\n      Bottleneck-390           [-1, 1024, 4, 4]               0\n          Conv2d-391            [-1, 256, 4, 4]         262,144\n     BatchNorm2d-392            [-1, 256, 4, 4]             512\n            ReLU-393            [-1, 256, 4, 4]               0\n          Conv2d-394            [-1, 256, 4, 4]         589,824\n     BatchNorm2d-395            [-1, 256, 4, 4]             512\n            ReLU-396            [-1, 256, 4, 4]               0\n          Conv2d-397           [-1, 1024, 4, 4]         262,144\n     BatchNorm2d-398           [-1, 1024, 4, 4]           2,048\n            ReLU-399           [-1, 1024, 4, 4]               0\n      Bottleneck-400           [-1, 1024, 4, 4]               0\n          Conv2d-401            [-1, 256, 4, 4]         262,144\n     BatchNorm2d-402            [-1, 256, 4, 4]             512\n            ReLU-403            [-1, 256, 4, 4]               0\n          Conv2d-404            [-1, 256, 4, 4]         589,824\n     BatchNorm2d-405            [-1, 256, 4, 4]             512\n            ReLU-406            [-1, 256, 4, 4]               0\n          Conv2d-407           [-1, 1024, 4, 4]         262,144\n     BatchNorm2d-408           [-1, 1024, 4, 4]           2,048\n            ReLU-409           [-1, 1024, 4, 4]               0\n      Bottleneck-410           [-1, 1024, 4, 4]               0\n          Conv2d-411            [-1, 256, 4, 4]         262,144\n     BatchNorm2d-412            [-1, 256, 4, 4]             512\n            ReLU-413            [-1, 256, 4, 4]               0\n          Conv2d-414            [-1, 256, 4, 4]         589,824\n     BatchNorm2d-415            [-1, 256, 4, 4]             512\n            ReLU-416            [-1, 256, 4, 4]               0\n          Conv2d-417           [-1, 1024, 4, 4]         262,144\n     BatchNorm2d-418           [-1, 1024, 4, 4]           2,048\n            ReLU-419           [-1, 1024, 4, 4]               0\n      Bottleneck-420           [-1, 1024, 4, 4]               0\n          Conv2d-421            [-1, 256, 4, 4]         262,144\n     BatchNorm2d-422            [-1, 256, 4, 4]             512\n            ReLU-423            [-1, 256, 4, 4]               0\n          Conv2d-424            [-1, 256, 4, 4]         589,824\n     BatchNorm2d-425            [-1, 256, 4, 4]             512\n            ReLU-426            [-1, 256, 4, 4]               0\n          Conv2d-427           [-1, 1024, 4, 4]         262,144\n     BatchNorm2d-428           [-1, 1024, 4, 4]           2,048\n            ReLU-429           [-1, 1024, 4, 4]               0\n      Bottleneck-430           [-1, 1024, 4, 4]               0\n          Conv2d-431            [-1, 256, 4, 4]         262,144\n     BatchNorm2d-432            [-1, 256, 4, 4]             512\n            ReLU-433            [-1, 256, 4, 4]               0\n          Conv2d-434            [-1, 256, 4, 4]         589,824\n     BatchNorm2d-435            [-1, 256, 4, 4]             512\n            ReLU-436            [-1, 256, 4, 4]               0\n          Conv2d-437           [-1, 1024, 4, 4]         262,144\n     BatchNorm2d-438           [-1, 1024, 4, 4]           2,048\n            ReLU-439           [-1, 1024, 4, 4]               0\n      Bottleneck-440           [-1, 1024, 4, 4]               0\n          Conv2d-441            [-1, 256, 4, 4]         262,144\n     BatchNorm2d-442            [-1, 256, 4, 4]             512\n            ReLU-443            [-1, 256, 4, 4]               0\n          Conv2d-444            [-1, 256, 4, 4]         589,824\n     BatchNorm2d-445            [-1, 256, 4, 4]             512\n            ReLU-446            [-1, 256, 4, 4]               0\n          Conv2d-447           [-1, 1024, 4, 4]         262,144\n     BatchNorm2d-448           [-1, 1024, 4, 4]           2,048\n            ReLU-449           [-1, 1024, 4, 4]               0\n      Bottleneck-450           [-1, 1024, 4, 4]               0\n          Conv2d-451            [-1, 256, 4, 4]         262,144\n     BatchNorm2d-452            [-1, 256, 4, 4]             512\n            ReLU-453            [-1, 256, 4, 4]               0\n          Conv2d-454            [-1, 256, 4, 4]         589,824\n     BatchNorm2d-455            [-1, 256, 4, 4]             512\n            ReLU-456            [-1, 256, 4, 4]               0\n          Conv2d-457           [-1, 1024, 4, 4]         262,144\n     BatchNorm2d-458           [-1, 1024, 4, 4]           2,048\n            ReLU-459           [-1, 1024, 4, 4]               0\n      Bottleneck-460           [-1, 1024, 4, 4]               0\n          Conv2d-461            [-1, 256, 4, 4]         262,144\n     BatchNorm2d-462            [-1, 256, 4, 4]             512\n            ReLU-463            [-1, 256, 4, 4]               0\n          Conv2d-464            [-1, 256, 4, 4]         589,824\n     BatchNorm2d-465            [-1, 256, 4, 4]             512\n            ReLU-466            [-1, 256, 4, 4]               0\n          Conv2d-467           [-1, 1024, 4, 4]         262,144\n     BatchNorm2d-468           [-1, 1024, 4, 4]           2,048\n            ReLU-469           [-1, 1024, 4, 4]               0\n      Bottleneck-470           [-1, 1024, 4, 4]               0\n          Conv2d-471            [-1, 256, 4, 4]         262,144\n     BatchNorm2d-472            [-1, 256, 4, 4]             512\n            ReLU-473            [-1, 256, 4, 4]               0\n          Conv2d-474            [-1, 256, 4, 4]         589,824\n     BatchNorm2d-475            [-1, 256, 4, 4]             512\n            ReLU-476            [-1, 256, 4, 4]               0\n          Conv2d-477           [-1, 1024, 4, 4]         262,144\n     BatchNorm2d-478           [-1, 1024, 4, 4]           2,048\n            ReLU-479           [-1, 1024, 4, 4]               0\n      Bottleneck-480           [-1, 1024, 4, 4]               0\n          Conv2d-481            [-1, 512, 4, 4]         524,288\n     BatchNorm2d-482            [-1, 512, 4, 4]           1,024\n            ReLU-483            [-1, 512, 4, 4]               0\n          Conv2d-484            [-1, 512, 2, 2]       2,359,296\n     BatchNorm2d-485            [-1, 512, 2, 2]           1,024\n            ReLU-486            [-1, 512, 2, 2]               0\n          Conv2d-487           [-1, 2048, 2, 2]       1,048,576\n     BatchNorm2d-488           [-1, 2048, 2, 2]           4,096\n          Conv2d-489           [-1, 2048, 2, 2]       2,097,152\n     BatchNorm2d-490           [-1, 2048, 2, 2]           4,096\n            ReLU-491           [-1, 2048, 2, 2]               0\n      Bottleneck-492           [-1, 2048, 2, 2]               0\n          Conv2d-493            [-1, 512, 2, 2]       1,048,576\n     BatchNorm2d-494            [-1, 512, 2, 2]           1,024\n            ReLU-495            [-1, 512, 2, 2]               0\n          Conv2d-496            [-1, 512, 2, 2]       2,359,296\n     BatchNorm2d-497            [-1, 512, 2, 2]           1,024\n            ReLU-498            [-1, 512, 2, 2]               0\n          Conv2d-499           [-1, 2048, 2, 2]       1,048,576\n     BatchNorm2d-500           [-1, 2048, 2, 2]           4,096\n            ReLU-501           [-1, 2048, 2, 2]               0\n      Bottleneck-502           [-1, 2048, 2, 2]               0\n          Conv2d-503            [-1, 512, 2, 2]       1,048,576\n     BatchNorm2d-504            [-1, 512, 2, 2]           1,024\n            ReLU-505            [-1, 512, 2, 2]               0\n          Conv2d-506            [-1, 512, 2, 2]       2,359,296\n     BatchNorm2d-507            [-1, 512, 2, 2]           1,024\n            ReLU-508            [-1, 512, 2, 2]               0\n          Conv2d-509           [-1, 2048, 2, 2]       1,048,576\n     BatchNorm2d-510           [-1, 2048, 2, 2]           4,096\n            ReLU-511           [-1, 2048, 2, 2]               0\n      Bottleneck-512           [-1, 2048, 2, 2]               0\nAdaptiveAvgPool2d-513           [-1, 2048, 1, 1]               0\n          Linear-514                   [-1, 10]          20,490\n================================================================\nTotal params: 58,158,026\nTrainable params: 58,158,026\nNon-trainable params: 0\n----------------------------------------------------------------\nInput size (MB): 0.02\nForward/backward pass size (MB): 49.53\nParams size (MB): 221.86\nEstimated Total Size (MB): 271.40\n----------------------------------------------------------------\n",
     "output_type": "stream"
    }
   ]
  },
  {
   "cell_type": "code",
   "source": [
    "train_losses = []\n",
    "train_accu = []\n",
    "\n",
    "def train(epoch):\n",
    "    print('Epoch : %d'%epoch)\n",
    "    \n",
    "    model.train()\n",
    "    running_loss=0\n",
    "    correct=0\n",
    "    total=0\n",
    "\n",
    "    for images, labels in tqdm(train_loader):\n",
    "        \n",
    "        images = images.float().cuda()\n",
    "        labels = labels.float().cuda()\n",
    "        #print(images.size())\n",
    "        #print(labels.size())\n",
    "        # Forward pass\n",
    "        #model = model.cuda()\n",
    "        outputs = model(images)\n",
    "        labels1= np.zeros((32,10))\n",
    "        \n",
    "        #labels1 = tensor.detach().cpu().numpy()\n",
    "        for j in range(32):\n",
    "            i=labels[j]\n",
    "            i=int(i.item())\n",
    "            # print(i)\n",
    "            labels1[j][i]=1\n",
    "        labels1=torch.from_numpy(labels1)\n",
    "        #print(labels1.size())\n",
    "        labels1=labels1.to(device='cuda')\n",
    "        loss = criterion(outputs, labels1)\n",
    "        \n",
    "        \n",
    "       # Backward and optimize\n",
    "        optimizer.zero_grad()\n",
    "        loss.backward()\n",
    "        optimizer.step()\n",
    "    \n",
    "        \n",
    "    #Replaces pow(2.0) with abs() for L1 regularization\n",
    "    \n",
    "#     l2_lambda = 0.001\n",
    "#     l2_norm = sum(p.pow(2.0).sum()\n",
    "#                   for p in model.parameters())\n",
    "\n",
    "#     loss = loss + l2_lambda * l2_norm\n",
    "    \n",
    "        \n",
    "        running_loss += loss.item()\n",
    "    \n",
    "        _, predicted = outputs.max(1)\n",
    "        total += labels.size(0)\n",
    "        correct += predicted.eq(labels).sum().item()\n",
    "      \n",
    "    train_loss=running_loss/len(train_loader)\n",
    "    accu=100.*correct/total\n",
    "  \n",
    "    train_accu.append(accu)\n",
    "    train_losses.append(train_loss)\n",
    "    print('Train Loss: %.3f | Accuracy: %.3f'%(train_loss,accu))\n",
    "    "
   ],
   "metadata": {
    "execution": {
     "iopub.status.busy": "2023-10-25T20:22:38.948424Z",
     "iopub.execute_input": "2023-10-25T20:22:38.948730Z",
     "iopub.status.idle": "2023-10-25T20:22:38.958821Z",
     "shell.execute_reply.started": "2023-10-25T20:22:38.948701Z",
     "shell.execute_reply": "2023-10-25T20:22:38.957871Z"
    },
    "trusted": true
   },
   "execution_count": 9,
   "outputs": []
  },
  {
   "cell_type": "code",
   "source": [
    "eval_losses=[]\n",
    "eval_accu=[]\n",
    "\n",
    "def test(epoch):\n",
    "    model.eval()\n",
    "\n",
    "    running_loss=0\n",
    "    correct=0\n",
    "    total=0\n",
    "    #print(test_loader)\n",
    "    with torch.no_grad():\n",
    "        for images, labels in tqdm(test_loader):\n",
    "            \n",
    "            #images = images.to(device='cuda', dtype=torch.float)\n",
    "            images = images.float().cuda()\n",
    "            labels = labels.float().cuda()\n",
    "            #labels = labels.to(device='cuda', dtype=torch.float)\n",
    "            \n",
    "            # Predict classes using the model\n",
    "            outputs = model(images)\n",
    "            #print(labels.size())\n",
    "            t,y=outputs.shape\n",
    "            # print(t)\n",
    "            labels1= np.zeros((t,10))\n",
    "            for j in range(t):\n",
    "                i=labels[j]\n",
    "                i=int(i.item())\n",
    "                labels1[j][i]=1\n",
    "            labels1=torch.from_numpy(labels1)\n",
    "            #print(labels1.size())\n",
    "            labels1=labels1.to(device='cuda')\n",
    "            #outputs=outputs.tensor()\n",
    "            loss= criterion(outputs,labels1)\n",
    "            running_loss+=loss.item()\n",
    "            \n",
    "            \n",
    "           # Compute accuracy\n",
    "            _, predicted = torch.max(outputs.data, 1)\n",
    "            total += labels.size(0)\n",
    "            correct += (predicted == labels).sum().item()\n",
    "            \n",
    "    test_loss=running_loss/len(test_loader)\n",
    "    accu=100.*correct/total\n",
    "\n",
    "    eval_losses.append(test_loss)\n",
    "    eval_accu.append(accu)\n",
    "\n",
    "    print('Test Loss: %.3f | Accuracy: %.3f'%(test_loss,accu)) \n",
    "    "
   ],
   "metadata": {
    "execution": {
     "iopub.status.busy": "2023-10-25T20:22:38.962125Z",
     "iopub.execute_input": "2023-10-25T20:22:38.962444Z",
     "iopub.status.idle": "2023-10-25T20:22:38.974858Z",
     "shell.execute_reply.started": "2023-10-25T20:22:38.962418Z",
     "shell.execute_reply": "2023-10-25T20:22:38.974022Z"
    },
    "trusted": true
   },
   "execution_count": 10,
   "outputs": []
  },
  {
   "cell_type": "code",
   "source": [
    "from tqdm import tqdm"
   ],
   "metadata": {
    "execution": {
     "iopub.status.busy": "2023-10-25T20:22:38.976911Z",
     "iopub.execute_input": "2023-10-25T20:22:38.977204Z",
     "iopub.status.idle": "2023-10-25T20:22:38.989312Z",
     "shell.execute_reply.started": "2023-10-25T20:22:38.977171Z",
     "shell.execute_reply": "2023-10-25T20:22:38.988553Z"
    },
    "trusted": true
   },
   "execution_count": 11,
   "outputs": []
  },
  {
   "cell_type": "code",
   "source": [
    "import time\n",
    "epochs = 30\n",
    "\n",
    "# Start the timer\n",
    "\n",
    "start_time = time.time()\n",
    "for epoch in range(1,epochs+1): \n",
    "    train(epoch)\n",
    "    test(epoch)\n",
    "# End the timer\n",
    "end_time = time.time()\n",
    "\n",
    "# Calculate the training time\n",
    "training_time = end_time - start_time\n",
    "\n",
    "print('Training time: {:.2f} seconds'.format(training_time))\n"
   ],
   "metadata": {
    "execution": {
     "iopub.status.busy": "2023-10-25T20:22:38.990296Z",
     "iopub.execute_input": "2023-10-25T20:22:38.990595Z",
     "iopub.status.idle": "2023-10-25T21:03:38.470340Z",
     "shell.execute_reply.started": "2023-10-25T20:22:38.990571Z",
     "shell.execute_reply": "2023-10-25T21:03:38.469433Z"
    },
    "trusted": true
   },
   "execution_count": 12,
   "outputs": [
    {
     "name": "stdout",
     "text": "Epoch : 1\n",
     "output_type": "stream"
    },
    {
     "name": "stderr",
     "text": "100%|██████████| 675/675 [01:18<00:00,  8.60it/s]\n",
     "output_type": "stream"
    },
    {
     "name": "stdout",
     "text": "Train Loss: 1.019 | Accuracy: 64.361\n",
     "output_type": "stream"
    },
    {
     "name": "stderr",
     "text": "100%|██████████| 169/169 [00:04<00:00, 37.20it/s]\n",
     "output_type": "stream"
    },
    {
     "name": "stdout",
     "text": "Test Loss: 2.938 | Accuracy: 41.963\nEpoch : 2\n",
     "output_type": "stream"
    },
    {
     "name": "stderr",
     "text": "100%|██████████| 675/675 [01:17<00:00,  8.71it/s]\n",
     "output_type": "stream"
    },
    {
     "name": "stdout",
     "text": "Train Loss: 0.693 | Accuracy: 75.963\n",
     "output_type": "stream"
    },
    {
     "name": "stderr",
     "text": "100%|██████████| 169/169 [00:04<00:00, 37.58it/s]\n",
     "output_type": "stream"
    },
    {
     "name": "stdout",
     "text": "Test Loss: 1.288 | Accuracy: 66.037\nEpoch : 3\n",
     "output_type": "stream"
    },
    {
     "name": "stderr",
     "text": "100%|██████████| 675/675 [01:17<00:00,  8.68it/s]\n",
     "output_type": "stream"
    },
    {
     "name": "stdout",
     "text": "Train Loss: 0.535 | Accuracy: 81.444\n",
     "output_type": "stream"
    },
    {
     "name": "stderr",
     "text": "100%|██████████| 169/169 [00:04<00:00, 37.57it/s]\n",
     "output_type": "stream"
    },
    {
     "name": "stdout",
     "text": "Test Loss: 9.715 | Accuracy: 33.426\nEpoch : 4\n",
     "output_type": "stream"
    },
    {
     "name": "stderr",
     "text": "100%|██████████| 675/675 [01:17<00:00,  8.67it/s]\n",
     "output_type": "stream"
    },
    {
     "name": "stdout",
     "text": "Train Loss: 0.516 | Accuracy: 82.509\n",
     "output_type": "stream"
    },
    {
     "name": "stderr",
     "text": "100%|██████████| 169/169 [00:04<00:00, 37.43it/s]\n",
     "output_type": "stream"
    },
    {
     "name": "stdout",
     "text": "Test Loss: 1.012 | Accuracy: 67.241\nEpoch : 5\n",
     "output_type": "stream"
    },
    {
     "name": "stderr",
     "text": "100%|██████████| 675/675 [01:17<00:00,  8.70it/s]\n",
     "output_type": "stream"
    },
    {
     "name": "stdout",
     "text": "Train Loss: 0.429 | Accuracy: 85.213\n",
     "output_type": "stream"
    },
    {
     "name": "stderr",
     "text": "100%|██████████| 169/169 [00:04<00:00, 37.30it/s]\n",
     "output_type": "stream"
    },
    {
     "name": "stdout",
     "text": "Test Loss: 2.641 | Accuracy: 57.222\nEpoch : 6\n",
     "output_type": "stream"
    },
    {
     "name": "stderr",
     "text": "100%|██████████| 675/675 [01:17<00:00,  8.66it/s]\n",
     "output_type": "stream"
    },
    {
     "name": "stdout",
     "text": "Train Loss: 0.365 | Accuracy: 87.458\n",
     "output_type": "stream"
    },
    {
     "name": "stderr",
     "text": "100%|██████████| 169/169 [00:04<00:00, 37.53it/s]\n",
     "output_type": "stream"
    },
    {
     "name": "stdout",
     "text": "Test Loss: 1.607 | Accuracy: 56.519\nEpoch : 7\n",
     "output_type": "stream"
    },
    {
     "name": "stderr",
     "text": "100%|██████████| 675/675 [01:17<00:00,  8.66it/s]\n",
     "output_type": "stream"
    },
    {
     "name": "stdout",
     "text": "Train Loss: 0.343 | Accuracy: 88.292\n",
     "output_type": "stream"
    },
    {
     "name": "stderr",
     "text": "100%|██████████| 169/169 [00:04<00:00, 37.58it/s]\n",
     "output_type": "stream"
    },
    {
     "name": "stdout",
     "text": "Test Loss: 5.774 | Accuracy: 47.222\nEpoch : 8\n",
     "output_type": "stream"
    },
    {
     "name": "stderr",
     "text": "100%|██████████| 675/675 [01:17<00:00,  8.71it/s]\n",
     "output_type": "stream"
    },
    {
     "name": "stdout",
     "text": "Train Loss: 0.303 | Accuracy: 89.704\n",
     "output_type": "stream"
    },
    {
     "name": "stderr",
     "text": "100%|██████████| 169/169 [00:04<00:00, 37.25it/s]\n",
     "output_type": "stream"
    },
    {
     "name": "stdout",
     "text": "Test Loss: 1.117 | Accuracy: 70.685\nEpoch : 9\n",
     "output_type": "stream"
    },
    {
     "name": "stderr",
     "text": "100%|██████████| 675/675 [01:17<00:00,  8.67it/s]\n",
     "output_type": "stream"
    },
    {
     "name": "stdout",
     "text": "Train Loss: 0.283 | Accuracy: 90.296\n",
     "output_type": "stream"
    },
    {
     "name": "stderr",
     "text": "100%|██████████| 169/169 [00:04<00:00, 37.35it/s]\n",
     "output_type": "stream"
    },
    {
     "name": "stdout",
     "text": "Test Loss: 2.946 | Accuracy: 62.741\nEpoch : 10\n",
     "output_type": "stream"
    },
    {
     "name": "stderr",
     "text": "100%|██████████| 675/675 [01:17<00:00,  8.68it/s]\n",
     "output_type": "stream"
    },
    {
     "name": "stdout",
     "text": "Train Loss: 0.233 | Accuracy: 91.718\n",
     "output_type": "stream"
    },
    {
     "name": "stderr",
     "text": "100%|██████████| 169/169 [00:04<00:00, 37.61it/s]\n",
     "output_type": "stream"
    },
    {
     "name": "stdout",
     "text": "Test Loss: 3.903 | Accuracy: 59.648\nEpoch : 11\n",
     "output_type": "stream"
    },
    {
     "name": "stderr",
     "text": "100%|██████████| 675/675 [01:17<00:00,  8.70it/s]\n",
     "output_type": "stream"
    },
    {
     "name": "stdout",
     "text": "Train Loss: 0.208 | Accuracy: 92.699\n",
     "output_type": "stream"
    },
    {
     "name": "stderr",
     "text": "100%|██████████| 169/169 [00:04<00:00, 37.73it/s]\n",
     "output_type": "stream"
    },
    {
     "name": "stdout",
     "text": "Test Loss: 0.527 | Accuracy: 83.833\nEpoch : 12\n",
     "output_type": "stream"
    },
    {
     "name": "stderr",
     "text": "100%|██████████| 675/675 [01:17<00:00,  8.66it/s]\n",
     "output_type": "stream"
    },
    {
     "name": "stdout",
     "text": "Train Loss: 0.176 | Accuracy: 93.954\n",
     "output_type": "stream"
    },
    {
     "name": "stderr",
     "text": "100%|██████████| 169/169 [00:04<00:00, 37.25it/s]\n",
     "output_type": "stream"
    },
    {
     "name": "stdout",
     "text": "Test Loss: 6.248 | Accuracy: 60.852\nEpoch : 13\n",
     "output_type": "stream"
    },
    {
     "name": "stderr",
     "text": "100%|██████████| 675/675 [01:17<00:00,  8.70it/s]\n",
     "output_type": "stream"
    },
    {
     "name": "stdout",
     "text": "Train Loss: 0.174 | Accuracy: 94.111\n",
     "output_type": "stream"
    },
    {
     "name": "stderr",
     "text": "100%|██████████| 169/169 [00:04<00:00, 37.45it/s]\n",
     "output_type": "stream"
    },
    {
     "name": "stdout",
     "text": "Test Loss: 5.711 | Accuracy: 53.741\nEpoch : 14\n",
     "output_type": "stream"
    },
    {
     "name": "stderr",
     "text": "100%|██████████| 675/675 [01:17<00:00,  8.67it/s]\n",
     "output_type": "stream"
    },
    {
     "name": "stdout",
     "text": "Train Loss: 0.145 | Accuracy: 94.940\n",
     "output_type": "stream"
    },
    {
     "name": "stderr",
     "text": "100%|██████████| 169/169 [00:04<00:00, 37.35it/s]\n",
     "output_type": "stream"
    },
    {
     "name": "stdout",
     "text": "Test Loss: 0.483 | Accuracy: 85.667\nEpoch : 15\n",
     "output_type": "stream"
    },
    {
     "name": "stderr",
     "text": "100%|██████████| 675/675 [01:17<00:00,  8.68it/s]\n",
     "output_type": "stream"
    },
    {
     "name": "stdout",
     "text": "Train Loss: 0.127 | Accuracy: 95.532\n",
     "output_type": "stream"
    },
    {
     "name": "stderr",
     "text": "100%|██████████| 169/169 [00:04<00:00, 37.24it/s]\n",
     "output_type": "stream"
    },
    {
     "name": "stdout",
     "text": "Test Loss: 1.530 | Accuracy: 66.241\nEpoch : 16\n",
     "output_type": "stream"
    },
    {
     "name": "stderr",
     "text": "100%|██████████| 675/675 [01:17<00:00,  8.76it/s]\n",
     "output_type": "stream"
    },
    {
     "name": "stdout",
     "text": "Train Loss: 0.107 | Accuracy: 96.241\n",
     "output_type": "stream"
    },
    {
     "name": "stderr",
     "text": "100%|██████████| 169/169 [00:04<00:00, 37.67it/s]\n",
     "output_type": "stream"
    },
    {
     "name": "stdout",
     "text": "Test Loss: 0.623 | Accuracy: 84.537\nEpoch : 17\n",
     "output_type": "stream"
    },
    {
     "name": "stderr",
     "text": "100%|██████████| 675/675 [01:17<00:00,  8.71it/s]\n",
     "output_type": "stream"
    },
    {
     "name": "stdout",
     "text": "Train Loss: 0.107 | Accuracy: 96.347\n",
     "output_type": "stream"
    },
    {
     "name": "stderr",
     "text": "100%|██████████| 169/169 [00:04<00:00, 37.39it/s]\n",
     "output_type": "stream"
    },
    {
     "name": "stdout",
     "text": "Test Loss: 2.324 | Accuracy: 64.870\nEpoch : 18\n",
     "output_type": "stream"
    },
    {
     "name": "stderr",
     "text": "100%|██████████| 675/675 [01:17<00:00,  8.74it/s]\n",
     "output_type": "stream"
    },
    {
     "name": "stdout",
     "text": "Train Loss: 0.092 | Accuracy: 96.769\n",
     "output_type": "stream"
    },
    {
     "name": "stderr",
     "text": "100%|██████████| 169/169 [00:04<00:00, 37.58it/s]\n",
     "output_type": "stream"
    },
    {
     "name": "stdout",
     "text": "Test Loss: 1.839 | Accuracy: 65.537\nEpoch : 19\n",
     "output_type": "stream"
    },
    {
     "name": "stderr",
     "text": "100%|██████████| 675/675 [01:16<00:00,  8.77it/s]\n",
     "output_type": "stream"
    },
    {
     "name": "stdout",
     "text": "Train Loss: 0.093 | Accuracy: 96.704\n",
     "output_type": "stream"
    },
    {
     "name": "stderr",
     "text": "100%|██████████| 169/169 [00:04<00:00, 37.60it/s]\n",
     "output_type": "stream"
    },
    {
     "name": "stdout",
     "text": "Test Loss: 9.864 | Accuracy: 52.667\nEpoch : 20\n",
     "output_type": "stream"
    },
    {
     "name": "stderr",
     "text": "100%|██████████| 675/675 [01:17<00:00,  8.76it/s]\n",
     "output_type": "stream"
    },
    {
     "name": "stdout",
     "text": "Train Loss: 0.108 | Accuracy: 96.398\n",
     "output_type": "stream"
    },
    {
     "name": "stderr",
     "text": "100%|██████████| 169/169 [00:04<00:00, 37.71it/s]\n",
     "output_type": "stream"
    },
    {
     "name": "stdout",
     "text": "Test Loss: 0.509 | Accuracy: 87.593\nEpoch : 21\n",
     "output_type": "stream"
    },
    {
     "name": "stderr",
     "text": "100%|██████████| 675/675 [01:17<00:00,  8.76it/s]\n",
     "output_type": "stream"
    },
    {
     "name": "stdout",
     "text": "Train Loss: 0.082 | Accuracy: 97.398\n",
     "output_type": "stream"
    },
    {
     "name": "stderr",
     "text": "100%|██████████| 169/169 [00:04<00:00, 37.82it/s]\n",
     "output_type": "stream"
    },
    {
     "name": "stdout",
     "text": "Test Loss: 5.029 | Accuracy: 56.130\nEpoch : 22\n",
     "output_type": "stream"
    },
    {
     "name": "stderr",
     "text": "100%|██████████| 675/675 [01:16<00:00,  8.77it/s]\n",
     "output_type": "stream"
    },
    {
     "name": "stdout",
     "text": "Train Loss: 0.068 | Accuracy: 97.699\n",
     "output_type": "stream"
    },
    {
     "name": "stderr",
     "text": "100%|██████████| 169/169 [00:04<00:00, 37.76it/s]\n",
     "output_type": "stream"
    },
    {
     "name": "stdout",
     "text": "Test Loss: 3.098 | Accuracy: 57.833\nEpoch : 23\n",
     "output_type": "stream"
    },
    {
     "name": "stderr",
     "text": "100%|██████████| 675/675 [01:17<00:00,  8.76it/s]\n",
     "output_type": "stream"
    },
    {
     "name": "stdout",
     "text": "Train Loss: 0.060 | Accuracy: 97.921\n",
     "output_type": "stream"
    },
    {
     "name": "stderr",
     "text": "100%|██████████| 169/169 [00:04<00:00, 37.57it/s]\n",
     "output_type": "stream"
    },
    {
     "name": "stdout",
     "text": "Test Loss: 3.213 | Accuracy: 64.130\nEpoch : 24\n",
     "output_type": "stream"
    },
    {
     "name": "stderr",
     "text": "100%|██████████| 675/675 [01:17<00:00,  8.75it/s]\n",
     "output_type": "stream"
    },
    {
     "name": "stdout",
     "text": "Train Loss: 0.067 | Accuracy: 97.713\n",
     "output_type": "stream"
    },
    {
     "name": "stderr",
     "text": "100%|██████████| 169/169 [00:04<00:00, 37.70it/s]\n",
     "output_type": "stream"
    },
    {
     "name": "stdout",
     "text": "Test Loss: 1.203 | Accuracy: 77.056\nEpoch : 25\n",
     "output_type": "stream"
    },
    {
     "name": "stderr",
     "text": "100%|██████████| 675/675 [01:16<00:00,  8.77it/s]\n",
     "output_type": "stream"
    },
    {
     "name": "stdout",
     "text": "Train Loss: 0.065 | Accuracy: 97.713\n",
     "output_type": "stream"
    },
    {
     "name": "stderr",
     "text": "100%|██████████| 169/169 [00:04<00:00, 37.65it/s]\n",
     "output_type": "stream"
    },
    {
     "name": "stdout",
     "text": "Test Loss: 0.616 | Accuracy: 85.704\nEpoch : 26\n",
     "output_type": "stream"
    },
    {
     "name": "stderr",
     "text": "100%|██████████| 675/675 [01:17<00:00,  8.72it/s]\n",
     "output_type": "stream"
    },
    {
     "name": "stdout",
     "text": "Train Loss: 0.066 | Accuracy: 97.819\n",
     "output_type": "stream"
    },
    {
     "name": "stderr",
     "text": "100%|██████████| 169/169 [00:04<00:00, 37.62it/s]\n",
     "output_type": "stream"
    },
    {
     "name": "stdout",
     "text": "Test Loss: 1.482 | Accuracy: 71.704\nEpoch : 27\n",
     "output_type": "stream"
    },
    {
     "name": "stderr",
     "text": "100%|██████████| 675/675 [01:17<00:00,  8.75it/s]\n",
     "output_type": "stream"
    },
    {
     "name": "stdout",
     "text": "Train Loss: 0.067 | Accuracy: 97.704\n",
     "output_type": "stream"
    },
    {
     "name": "stderr",
     "text": "100%|██████████| 169/169 [00:04<00:00, 37.73it/s]\n",
     "output_type": "stream"
    },
    {
     "name": "stdout",
     "text": "Test Loss: 0.947 | Accuracy: 79.426\nEpoch : 28\n",
     "output_type": "stream"
    },
    {
     "name": "stderr",
     "text": "100%|██████████| 675/675 [01:16<00:00,  8.77it/s]\n",
     "output_type": "stream"
    },
    {
     "name": "stdout",
     "text": "Train Loss: 0.054 | Accuracy: 98.125\n",
     "output_type": "stream"
    },
    {
     "name": "stderr",
     "text": "100%|██████████| 169/169 [00:04<00:00, 37.71it/s]\n",
     "output_type": "stream"
    },
    {
     "name": "stdout",
     "text": "Test Loss: 0.754 | Accuracy: 83.315\nEpoch : 29\n",
     "output_type": "stream"
    },
    {
     "name": "stderr",
     "text": "100%|██████████| 675/675 [01:17<00:00,  8.73it/s]\n",
     "output_type": "stream"
    },
    {
     "name": "stdout",
     "text": "Train Loss: 0.053 | Accuracy: 98.306\n",
     "output_type": "stream"
    },
    {
     "name": "stderr",
     "text": "100%|██████████| 169/169 [00:04<00:00, 37.76it/s]\n",
     "output_type": "stream"
    },
    {
     "name": "stdout",
     "text": "Test Loss: 3.060 | Accuracy: 64.148\nEpoch : 30\n",
     "output_type": "stream"
    },
    {
     "name": "stderr",
     "text": "100%|██████████| 675/675 [01:17<00:00,  8.75it/s]\n",
     "output_type": "stream"
    },
    {
     "name": "stdout",
     "text": "Train Loss: 0.052 | Accuracy: 98.190\n",
     "output_type": "stream"
    },
    {
     "name": "stderr",
     "text": "100%|██████████| 169/169 [00:04<00:00, 37.56it/s]",
     "output_type": "stream"
    },
    {
     "name": "stdout",
     "text": "Test Loss: 0.648 | Accuracy: 86.019\nTraining time: 2459.47 seconds\n",
     "output_type": "stream"
    },
    {
     "name": "stderr",
     "text": "\n",
     "output_type": "stream"
    }
   ]
  },
  {
   "cell_type": "code",
   "source": [
    "import matplotlib.pyplot as plt\n"
   ],
   "metadata": {
    "execution": {
     "iopub.status.busy": "2023-10-25T21:03:38.471697Z",
     "iopub.execute_input": "2023-10-25T21:03:38.472062Z",
     "iopub.status.idle": "2023-10-25T21:03:38.476824Z",
     "shell.execute_reply.started": "2023-10-25T21:03:38.472027Z",
     "shell.execute_reply": "2023-10-25T21:03:38.475884Z"
    },
    "trusted": true
   },
   "execution_count": 13,
   "outputs": []
  },
  {
   "cell_type": "code",
   "source": [
    "#plot accuracy\n",
    "plt.plot(train_accu,'-o')\n",
    "plt.plot(eval_accu,'-o')\n",
    "plt.xlabel('epoch')\n",
    "plt.ylabel('accuracy')\n",
    "plt.legend(['Train','Valid'])\n",
    "plt.title('Train vs Valid Accuracy')\n",
    "\n",
    "plt.show()"
   ],
   "metadata": {
    "execution": {
     "iopub.status.busy": "2023-10-25T21:03:38.478275Z",
     "iopub.execute_input": "2023-10-25T21:03:38.478964Z",
     "iopub.status.idle": "2023-10-25T21:03:38.815223Z",
     "shell.execute_reply.started": "2023-10-25T21:03:38.478929Z",
     "shell.execute_reply": "2023-10-25T21:03:38.814341Z"
    },
    "trusted": true
   },
   "execution_count": 14,
   "outputs": [
    {
     "output_type": "display_data",
     "data": {
      "text/plain": "<Figure size 640x480 with 1 Axes>",
      "image/png": "[encoded data removed]"
     },
     "metadata": {}
    }
   ]
  },
  {
   "cell_type": "code",
   "source": [
    "#plot losses\n",
    "\n",
    "plt.plot(train_losses,'-o')\n",
    "plt.plot(eval_losses,'-o')\n",
    "plt.xlabel('epoch')\n",
    "plt.ylabel('losses')\n",
    "plt.legend(['Train','Valid'])\n",
    "plt.title('Train vs Valid Losses')\n",
    "\n",
    "plt.show()"
   ],
   "metadata": {
    "execution": {
     "iopub.status.busy": "2023-10-25T21:03:38.816471Z",
     "iopub.execute_input": "2023-10-25T21:03:38.816828Z",
     "iopub.status.idle": "2023-10-25T21:03:39.106636Z",
     "shell.execute_reply.started": "2023-10-25T21:03:38.816795Z",
     "shell.execute_reply": "2023-10-25T21:03:39.105794Z"
    },
    "trusted": true
   },
   "execution_count": 15,
   "outputs": [
    {
     "output_type": "display_data",
     "data": {
      "text/plain": "<Figure size 640x480 with 1 Axes>",
      "image/png": "[encoded data removed]"
     },
     "metadata": {}
    }
   ]
  },
  {
   "cell_type": "code",
   "source": [
    "from sklearn.metrics import confusion_matrix ,classification_report, precision_score, recall_score\n",
    "\n",
    "# testing\n",
    "ttloss = []\n",
    "ttacc = []\n",
    "ttf1 = []\n",
    "\n",
    "T_val = []\n",
    "P_val = []\n",
    "\n",
    "with torch.no_grad():\n",
    "    model.eval()\n",
    "    for (X_val, y_val) in tqdm(test_loader):\n",
    "        X_val = X_val.float().cuda()\n",
    "        y_val = y_val.float().cuda()\n",
    "        #X_val, y_val = X_val.to(device), y_val.to(device)\n",
    "        #y_val = y_val.type(torch.cuda.LongTensor)\n",
    "        \n",
    "        output = model(X_val)\n",
    "        #print(output.shape)\n",
    "        \n",
    "        outputs = torch.max(output, dim=1)[1]\n",
    "        #print(outputs.shape)\n",
    "        T_val.extend(y_val.cpu().numpy())\n",
    "        #print(T_val)\n",
    "        P_val.extend(outputs.cpu().numpy())\n",
    "    #print(T_val)\n",
    "    #print(P_val)\n",
    "    precision = precision_score(T_val, P_val, average='macro')\n",
    "    recall = recall_score(T_val, P_val, average='macro')\n",
    "    res = confusion_matrix(T_val, P_val)\n",
    "    report = classification_report(T_val, P_val)\n",
    "    \n",
    "    print(\"Precision: \",precision)\n",
    "    print(\"Recall: \",recall)\n",
    "\n",
    "    print('Confusion matrix:\\n',res)\n",
    "    print('Report:\\n',report)"
   ],
   "metadata": {
    "execution": {
     "iopub.status.busy": "2023-10-25T21:03:39.107843Z",
     "iopub.execute_input": "2023-10-25T21:03:39.108131Z",
     "iopub.status.idle": "2023-10-25T21:03:43.556695Z",
     "shell.execute_reply.started": "2023-10-25T21:03:39.108099Z",
     "shell.execute_reply": "2023-10-25T21:03:43.555708Z"
    },
    "trusted": true
   },
   "execution_count": 16,
   "outputs": [
    {
     "name": "stderr",
     "text": "100%|██████████| 169/169 [00:04<00:00, 38.69it/s]",
     "output_type": "stream"
    },
    {
     "name": "stdout",
     "text": "Precision:  0.8582894655588167\nRecall:  0.8574833333333333\nConfusion matrix:\n [[553   0   9   1   1  15  20   0   1   0]\n [  4 566  11   4   1   5   4   5   0   0]\n [ 42  44 432  11   6  17  43   1   3   1]\n [ 15  15  17 401  13  21   6   1  11   0]\n [  0   1   2  18 454   5   2  15   3   0]\n [ 21   5  10   5   0 349  10   0   0   0]\n [ 76  10  31  14   3  77 288   0   1   0]\n [  0  35   1   7  35   0   3 519   0   0]\n [  2   0   1   7   3   1   0   0 484   2]\n [  0   0   0   0   0   0   0   0   1 599]]\nReport:\n               precision    recall  f1-score   support\n\n         0.0       0.78      0.92      0.84       600\n         1.0       0.84      0.94      0.89       600\n         2.0       0.84      0.72      0.78       600\n         3.0       0.86      0.80      0.83       500\n         4.0       0.88      0.91      0.89       500\n         5.0       0.71      0.87      0.78       400\n         6.0       0.77      0.58      0.66       500\n         7.0       0.96      0.86      0.91       600\n         8.0       0.96      0.97      0.96       500\n         9.0       1.00      1.00      1.00       600\n\n    accuracy                           0.86      5400\n   macro avg       0.86      0.86      0.85      5400\nweighted avg       0.86      0.86      0.86      5400\n\n",
     "output_type": "stream"
    },
    {
     "name": "stderr",
     "text": "\n",
     "output_type": "stream"
    }
   ]
  }
 ]
}
